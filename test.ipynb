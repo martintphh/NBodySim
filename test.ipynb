{
 "cells": [
  {
   "cell_type": "code",
   "execution_count": 1,
   "metadata": {},
   "outputs": [],
   "source": [
    "import numpy as np\n",
    "from energy import *\n",
    "from body import *\n",
    "from planets import *"
   ]
  },
  {
   "cell_type": "code",
   "execution_count": 2,
   "metadata": {},
   "outputs": [],
   "source": [
    "A = Body(\"A\", mass=100, position=np.array([4,0,0]), velocity=np.array([2,0,0]))\n",
    "B = Body(\"B\", mass=4, position=np.array([0,-2,0]), velocity=np.array([0,0,3]))\n",
    "C = Body(\"C\", mass =10, position=np.array([3,-2,0]), velocity=np.array([1,6,0]))\n",
    "bodies = [A,B,C]\n"
   ]
  },
  {
   "cell_type": "code",
   "execution_count": 3,
   "metadata": {},
   "outputs": [
    {
     "name": "stdout",
     "output_type": "stream",
     "text": [
      "403.0\n",
      "-549.9896479332829\n"
     ]
    }
   ],
   "source": [
    "print(calculate_kinetic_energy(bodies))\n",
    "print(calculate_potential_energy(bodies, G=1))\n",
    "\n"
   ]
  },
  {
   "cell_type": "code",
   "execution_count": 4,
   "metadata": {},
   "outputs": [
    {
     "name": "stdout",
     "output_type": "stream",
     "text": [
      "[0.0, 0.0015384615384615385, 0.38461538461538464, 76.92307692307692]\n"
     ]
    }
   ],
   "source": [
    "k = [0, 4, 1000, 200000]\n",
    "\n",
    "k_in_h = [i / 2600 for i in k]\n",
    "\n",
    "print(k_in_h)\n"
   ]
  },
  {
   "cell_type": "code",
   "execution_count": 5,
   "metadata": {},
   "outputs": [
    {
     "name": "stdout",
     "output_type": "stream",
     "text": [
      "[[1, 2, 3]]\n",
      "[[1 2 3]]\n"
     ]
    }
   ],
   "source": [
    "A = [[1,2,3],\n",
    "    [4,5,6],\n",
    "    [7,8,9]]\n",
    "B = np.array(A)\n",
    "\n",
    "\n",
    "print(A[:1])\n",
    "print(B[:1])"
   ]
  },
  {
   "cell_type": "code",
   "execution_count": 13,
   "metadata": {},
   "outputs": [
    {
     "name": "stdout",
     "output_type": "stream",
     "text": [
      "Gurke\n",
      "12\n",
      "Apfel\n",
      "3235\n"
     ]
    }
   ],
   "source": [
    "plants = {\"Gurke\":12, \"Apfel\":3235}\n",
    "plants[\"Gurke\"]\n",
    "list(plants.keys())[0]\n",
    "for i,j in plants.items():\n",
    "    print(i)\n",
    "    print(j)\n"
   ]
  },
  {
   "cell_type": "code",
   "execution_count": 22,
   "metadata": {},
   "outputs": [
    {
     "data": {
      "text/plain": [
       "'-0.00573061 -0.00491056  0.00017951'"
      ]
     },
     "execution_count": 22,
     "metadata": {},
     "output_type": "execute_result"
    }
   ],
   "source": [
    "\n",
    "a =np.array([\n",
    "      7.160788611314778e-06,\n",
    "      -3.666546272590425e-06,\n",
    "      -1.176972196034231e-07\n",
    "    ])\n",
    "a/(3600*24)\n",
    "\n",
    "\n",
    "\"\"\"-0.00573061 -0.00491056  0.00017951\"\"\""
   ]
  }
 ],
 "metadata": {
  "kernelspec": {
   "display_name": "base",
   "language": "python",
   "name": "python3"
  },
  "language_info": {
   "codemirror_mode": {
    "name": "ipython",
    "version": 3
   },
   "file_extension": ".py",
   "mimetype": "text/x-python",
   "name": "python",
   "nbconvert_exporter": "python",
   "pygments_lexer": "ipython3",
   "version": "3.12.7"
  }
 },
 "nbformat": 4,
 "nbformat_minor": 2
}
